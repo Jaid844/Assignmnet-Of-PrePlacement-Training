{
 "cells": [
  {
   "cell_type": "code",
   "execution_count": null,
   "id": "f6a79771",
   "metadata": {},
   "outputs": [],
   "source": [
    "Given two strings s and t, *determine if they are isomorphic*.\n",
    "\n",
    "Two strings s and t are isomorphic if the characters in s can be replaced to get t.\n",
    "\n",
    "All occurrences of a character must be replaced with another character while preserving the order of characters. No two characters may map to the same character, but a character may map to itself.\n",
    "\n",
    "**Example 1:**\n",
    "\n",
    "**Input:** s = \"egg\", t = \"add\"\n",
    "\n",
    "**Output:** true\n"
   ]
  },
  {
   "cell_type": "code",
   "execution_count": 1,
   "id": "e198dff8",
   "metadata": {},
   "outputs": [],
   "source": [
    "def isIsomorphic(s, t):\n",
    "    s_to_t = {}\n",
    "    t_to_s = {}\n",
    "\n",
    "    for s_char, t_char in zip(s, t):\n",
    "        if s_char not in s_to_t and t_char not in t_to_s:\n",
    "            s_to_t[s_char] = t_char\n",
    "            t_to_s[t_char] = s_char\n",
    "        elif s_char in s_to_t and t_char in t_to_s:\n",
    "            if s_to_t[s_char] != t_char or t_to_s[t_char] != s_char:\n",
    "                return False\n",
    "        else:\n",
    "            return False\n",
    "\n",
    "    return True\n"
   ]
  },
  {
   "cell_type": "code",
   "execution_count": null,
   "id": "3c55e46b",
   "metadata": {},
   "outputs": [],
   "source": [
    "Given a string num which represents an integer, return true *if* num *is a **strobogrammatic number***.\n",
    "\n",
    "A **strobogrammatic number** is a number that looks the same when rotated 180 degrees (looked at upside down).\n",
    "\n",
    "**Example 1:**\n",
    "\n",
    "**Input:** num = \"69\"\n",
    "\n",
    "**Output:**\n",
    "\n",
    "true"
   ]
  },
  {
   "cell_type": "code",
   "execution_count": 7,
   "id": "cbf96619",
   "metadata": {},
   "outputs": [],
   "source": [
    "def grammitic(num):\n",
    "    mapping={'0': '0', '1': '1', '6': '9', '8': '8', '9': '6'}\n",
    "    left=0\n",
    "    right=len(num)-1\n",
    "    while left<=right:\n",
    "        if num[right] not in mapping or mapping[num[left]] !=num[right]:\n",
    "            return False\n",
    "        left +=1\n",
    "        right -=1\n",
    "        \n",
    "        return True\n",
    "        "
   ]
  },
  {
   "cell_type": "code",
   "execution_count": null,
   "id": "3fdd24ca",
   "metadata": {},
   "outputs": [],
   "source": [
    "<aside>\n",
    "💡 **Question 3**\n",
    "\n",
    "Given two non-negative integers, num1 and num2 represented as string, return *the sum of* num1 *and* num2 *as a string*.\n",
    "\n",
    "You must solve the problem without using any built-in library for handling large integers (such as BigInteger). You must also not convert the inputs to integers directly.\n",
    "\n",
    "**Example 1:**\n",
    "\n",
    "**Input:** num1 = \"11\", num2 = \"123\"\n",
    "\n",
    "**Output:**\n",
    "\n",
    "\"134\n",
    "\n",
    "</aside>"
   ]
  },
  {
   "cell_type": "code",
   "execution_count": 3,
   "id": "8531d488",
   "metadata": {},
   "outputs": [],
   "source": [
    "def straings(num1,num2):\n",
    "    p1=len(num1)\n",
    "    p2=len(num2)\n",
    "    c=0\n",
    "    result=''\n",
    "    while p1>=0 or p2>=0:\n",
    "        if p1 >= 0:\n",
    "            carry += int(num1[p1])\n",
    "            p1 -= 1\n",
    "        if p2 >= 0:\n",
    "            carry += int(num2[p2])\n",
    "            p2 -= 1\n",
    "        result = str(carry % 10) + result\n",
    "        carry //= 10\n",
    "    if carry>0:\n",
    "        result=str(carry)+result\n",
    "        \n",
    "                "
   ]
  },
  {
   "cell_type": "code",
   "execution_count": null,
   "id": "6f354fb9",
   "metadata": {},
   "outputs": [],
   "source": [
    "Given a string s, reverse the order of characters in each word within a sentence while still preserving whitespace and initial word order.\n",
    "\n",
    "**Example 1:**\n",
    "\n",
    "**Input:** s = \"Let's take LeetCode contest\"\n",
    "\n",
    "**Output:** \"s'teL ekat edoCteeL tsetnoc\""
   ]
  },
  {
   "cell_type": "code",
   "execution_count": 4,
   "id": "6ac7a19a",
   "metadata": {},
   "outputs": [],
   "source": [
    "def reverseWord(s):\n",
    "    words = s.split()\n",
    "    reversed_ = []\n",
    "\n",
    "    for word in words:\n",
    "        reversed_ = word[::-1]\n",
    "        reversed_.append(reversed_word)\n",
    "\n",
    "    reversed_sentence = ' '.join(reversed_words)\n",
    "    return reversed_"
   ]
  },
  {
   "cell_type": "code",
   "execution_count": null,
   "id": "c3711466",
   "metadata": {},
   "outputs": [],
   "source": [
    "Given a string s and an integer k, reverse the first k characters for every 2k characters counting from the start of the string.\n",
    "\n",
    "If there are fewer than k characters left, reverse all of them. If there are less than 2k but greater than or equal to k characters, then reverse the first k characters and leave the other as original.\n",
    "\n",
    "**Example 1:**\n",
    "\n",
    "**Input:** s = \"abcdefg\", k = 2\n",
    "\n",
    "**Output:**\n",
    "\n",
    "\"bacdfeg\""
   ]
  },
  {
   "cell_type": "code",
   "execution_count": 5,
   "id": "3bc88b93",
   "metadata": {},
   "outputs": [],
   "source": [
    "def reversewords(s, k):\n",
    "    char = list(s)\n",
    "    n = len(s)\n",
    "\n",
    "    for i in range(0, n, 2 * k):\n",
    "        char[i:i + k] = char[i:i + k][::-1]\n",
    "\n",
    "    return ''.join(char)\n"
   ]
  },
  {
   "cell_type": "code",
   "execution_count": null,
   "id": "af6f11ab",
   "metadata": {},
   "outputs": [],
   "source": [
    "Given two strings s and goal, return true *if and only if* s *can become* goal *after some number of **shifts** on* s.\n",
    "\n",
    "A **shift** on s consists of moving the leftmost character of s to the rightmost position.\n",
    "\n",
    "- For example, if s = \"abcde\", then it will be \"bcdea\" after one shift.\n",
    "\n",
    "**Example 1:**\n",
    "\n",
    "**Input:** s = \"abcde\", goal = \"cdeab\"\n",
    "\n",
    "**Output:**\n",
    "\n",
    "true"
   ]
  },
  {
   "cell_type": "code",
   "execution_count": 6,
   "id": "f250e716",
   "metadata": {},
   "outputs": [],
   "source": [
    "def rotate(s, g):\n",
    "    if len(s) != len(g):\n",
    "        return False\n",
    "\n",
    "    concatenated = s + s\n",
    "\n",
    "    if goal in concatenated:\n",
    "        return True\n",
    "    else:\n",
    "        return False"
   ]
  },
  {
   "cell_type": "code",
   "execution_count": null,
   "id": "b148644c",
   "metadata": {},
   "outputs": [],
   "source": [
    "Given two strings s and t, return true *if they are equal when both are typed into empty text editors*. '#' means a backspace character.\n",
    "\n",
    "Note that after backspacing an empty text, the text will continue empty.\n",
    "\n",
    "**Example 1:**\n",
    "\n",
    "**Input:** s = \"ab#c\", t = \"ad#c\"\n",
    "\n",
    "**Output:** true\n",
    "\n",
    "**Explanation:**\n",
    "\n",
    "Both s and t become \"ac\"."
   ]
  },
  {
   "cell_type": "code",
   "execution_count": 8,
   "id": "a6a68d84",
   "metadata": {},
   "outputs": [],
   "source": [
    "def backspaceCompare(s, t):\n",
    "    s_list = []\n",
    "    t_list = []\n",
    "\n",
    "    for char in s:\n",
    "        if char != '#':\n",
    "            s_list.append(char)\n",
    "        elif s_list:\n",
    "            s_list.pop()\n",
    "\n",
    "    for char in t:\n",
    "        if char != '#':\n",
    "            t_list.append(char)\n",
    "        elif t_list:\n",
    "            t_list.pop()\n",
    "\n",
    "    return s_list == t_list\n"
   ]
  },
  {
   "cell_type": "code",
   "execution_count": 9,
   "id": "9b557c47",
   "metadata": {},
   "outputs": [
    {
     "ename": "SyntaxError",
     "evalue": "invalid character '💡' (U+1F4A1) (1230264198.py, line 2)",
     "output_type": "error",
     "traceback": [
      "\u001b[1;36m  Cell \u001b[1;32mIn[9], line 2\u001b[1;36m\u001b[0m\n\u001b[1;33m    💡 **Question 8**\u001b[0m\n\u001b[1;37m    ^\u001b[0m\n\u001b[1;31mSyntaxError\u001b[0m\u001b[1;31m:\u001b[0m invalid character '💡' (U+1F4A1)\n"
     ]
    }
   ],
   "source": [
    "<aside>\n",
    "💡 **Question 8**\n",
    "\n",
    "You are given an array coordinates, coordinates[i] = [x, y], where [x, y] represents the coordinate of a point. Check if these points make a straight line in the XY plane.\n",
    "\n",
    "**Example 1:**\n",
    "\n",
    "</aside>"
   ]
  },
  {
   "cell_type": "code",
   "execution_count": 10,
   "id": "83b0e648",
   "metadata": {},
   "outputs": [],
   "source": [
    "def checkStraightLine(coordinates):\n",
    "    if len(coordinates) <= 2:\n",
    "        return True\n",
    "\n",
    "    x1, y1 = coordinates[0]\n",
    "    x2, y2 = coordinates[1]\n",
    "    slope = (y2 - y1) / (x2 - x1)\n",
    "\n",
    "    for i in range(2, len(coordinates)):\n",
    "        xi, yi = coordinates[i]\n",
    "        curr_slope = (yi - y1) / (xi - x1)\n",
    "        if slope != curr_slope:\n",
    "            return False\n",
    "\n",
    "    return True\n"
   ]
  },
  {
   "cell_type": "code",
   "execution_count": null,
   "id": "6419a49f",
   "metadata": {},
   "outputs": [],
   "source": []
  }
 ],
 "metadata": {
  "kernelspec": {
   "display_name": "Python 3 (ipykernel)",
   "language": "python",
   "name": "python3"
  },
  "language_info": {
   "codemirror_mode": {
    "name": "ipython",
    "version": 3
   },
   "file_extension": ".py",
   "mimetype": "text/x-python",
   "name": "python",
   "nbconvert_exporter": "python",
   "pygments_lexer": "ipython3",
   "version": "3.11.2"
  }
 },
 "nbformat": 4,
 "nbformat_minor": 5
}
