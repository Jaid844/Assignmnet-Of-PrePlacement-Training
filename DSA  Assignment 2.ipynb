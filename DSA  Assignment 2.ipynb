{
 "cells": [
  {
   "cell_type": "code",
   "execution_count": null,
   "id": "55928129",
   "metadata": {},
   "outputs": [],
   "source": [
    "Given an integer array nums of 2n integers, group these integers into n pairs (a1, b1), (a2, b2),\n",
    "..., (an, bn) such that the sum of min(ai, bi) for all i is maximized. Return the maximized sum.\n",
    "Example 1:\n",
    "Input: nums = [1,4,3,2]\n",
    "Output: 4"
   ]
  },
  {
   "cell_type": "code",
   "execution_count": null,
   "id": "66a41d1a",
   "metadata": {},
   "outputs": [],
   "source": [
    "def nom(num):\n",
    "    num.sort()\n",
    "    max_sum=0\n",
    "    for i in range(0,len(num),2):\n",
    "        max_sum += num[i]\n",
    "    return max_sum"
   ]
  },
  {
   "cell_type": "code",
   "execution_count": null,
   "id": "2ad2c58e",
   "metadata": {},
   "outputs": [],
   "source": [
    "Alice has n candies, where the ith candy is of type candyType[i]. Alice noticed that she started\n",
    "to gain weight, so she visited a doctor.\n",
    "The doctor advised Alice to only eat n / 2 of the candies she has (n is always even). Alice\n",
    "likes her candies very much, and she wants to eat the maximum number of different types of\n",
    "candies while still following the doctor's advice.\n",
    "Given the integer array candyType of length n, return the maximum number of different types\n",
    "of candies she can eat if she only eats n / 2 of them.\n",
    "Example 1:\n",
    "Input: candyType = [1,1,2,2,3,3]\n",
    "Output: 3"
   ]
  },
  {
   "cell_type": "code",
   "execution_count": null,
   "id": "97b8bd13",
   "metadata": {},
   "outputs": [],
   "source": [
    "def minm(c):\n",
    "    v=set()\n",
    "    for i in c:\n",
    "        v.add(i) \n",
    "    return min(len(v),len(i) //2)"
   ]
  },
  {
   "cell_type": "code",
   "execution_count": null,
   "id": "54826f6a",
   "metadata": {},
   "outputs": [],
   "source": [
    "We define a harmonious array as an array where the difference between its maximum value\n",
    "and its minimum value is exactly 1.\n",
    "Given an integer array nums, return the length of its longest harmonious subsequence\n",
    "among all its possible subsequences.\n",
    "A subsequence of an array is a sequence that can be derived from the array by deleting some\n",
    "or no elements without changing the order of the remaining elements.\n",
    "Example 1:\n",
    "Input: nums = [1,3,2,2,5,2,3,7]\n",
    "Output: 5"
   ]
  },
  {
   "cell_type": "code",
   "execution_count": null,
   "id": "e6ca2298",
   "metadata": {},
   "outputs": [],
   "source": [
    "def lh(num):\n",
    "    counter={}\n",
    "    maxlen=0\n",
    "    for n in num:\n",
    "        counter[n]=counter.get(num,0) +1\n",
    "    for  n  in counter :\n",
    "        if  num +1 in counter:\n",
    "            maxlen=max(maxlen,counter[n]+counter[n+1])\n",
    "    return maxlen"
   ]
  },
  {
   "cell_type": "code",
   "execution_count": null,
   "id": "44c30271",
   "metadata": {},
   "outputs": [],
   "source": [
    "You have a long flowerbed in which some of the plots are planted, and some are not.\n",
    "However, flowers cannot be planted in adjacent plots.\n",
    "Given an integer array flowerbed containing 0's and 1's, where 0 means empty and 1 means\n",
    "not empty, and an integer n, return true if n new flowers can be planted in the flowerbed\n",
    "without violating the no-adjacent-flowers rule and false otherwise."
   ]
  },
  {
   "cell_type": "code",
   "execution_count": null,
   "id": "1dddfa80",
   "metadata": {},
   "outputs": [],
   "source": [
    "def flower(flowerbed,n):\n",
    "    count=0\n",
    "    length=len(flowerbed)\n",
    "    for i in range(length):\n",
    "         if flowerbed[i] == 0 and (i == 0 or flowerbed[i - 1] == 0) and (i == length - 1 or flowerbed[i + 1] == 0):\n",
    "                flowerbed[i] = 1\n",
    "                count += 1\n",
    "    return  count >=n\n",
    "                "
   ]
  },
  {
   "cell_type": "code",
   "execution_count": null,
   "id": "5d36e948",
   "metadata": {},
   "outputs": [],
   "source": [
    "Given an integer array nums, find three numbers whose product is maximum and return the\n",
    "maximum product."
   ]
  },
  {
   "cell_type": "code",
   "execution_count": null,
   "id": "04e71274",
   "metadata": {},
   "outputs": [],
   "source": [
    "def numsof(num):\n",
    "    num.sort()\n",
    "    \n",
    "    pr1=num[-1]*num[-2]*num[-3]\n",
    "    pr2=num[0]*num[1]*num[-1]\n",
    "    \n",
    "    return max(pr1,pr2)"
   ]
  },
  {
   "cell_type": "code",
   "execution_count": null,
   "id": "b2bcbe5d",
   "metadata": {},
   "outputs": [],
   "source": [
    "Given an array of integers nums which is sorted in ascending order, and an integer target,\n",
    "write a function to search target in nums. If target exists, then return its index. Otherwise,\n",
    "return -1.\n",
    "You must write an algorithm with O(log n) runtime complexity.\n",
    "Input: nums = [-1,0,3,5,9,12], target = 9\n",
    "Output: 4"
   ]
  },
  {
   "cell_type": "code",
   "execution_count": 5,
   "id": "d1f13e0e",
   "metadata": {},
   "outputs": [],
   "source": [
    "def search(nums, target):\n",
    "    left, right = 0, len(nums) - 1\n",
    "\n",
    "    while left <= right:\n",
    "        mid = (left + right) // 2\n",
    "\n",
    "        if nums[mid] == target:\n",
    "            return mid\n",
    "        elif nums[mid] < target:\n",
    "            left = mid + 1\n",
    "        else:\n",
    "            right = mid - 1\n",
    "\n",
    "    return -1"
   ]
  },
  {
   "cell_type": "code",
   "execution_count": null,
   "id": "ad39cd6a",
   "metadata": {},
   "outputs": [],
   "source": [
    "An array is monotonic if it is either monotone increasing or monotone decreasing.\n",
    "An array nums is monotone increasing if for all i <= j, nums[i] <= nums[j]. An array nums is\n",
    "monotone decreasing if for all i <= j, nums[i] >= nums[j].\n",
    "Given an integer array nums, return true if the given array is monotonic, or false otherwise.\n",
    "Example 1:\n",
    "Input: nums = [1,2,2,3]"
   ]
  },
  {
   "cell_type": "code",
   "execution_count": 3,
   "id": "20ad52e0",
   "metadata": {},
   "outputs": [
    {
     "data": {
      "text/plain": [
       "0"
      ]
     },
     "execution_count": 3,
     "metadata": {},
     "output_type": "execute_result"
    }
   ],
   "source": [
    "def montonic(num):\n",
    "    inc=dec=True\n",
    "    for i  in range(1,len(num)):\n",
    "        if num[i]>num[i-1]:\n",
    "            dec=False\n",
    "        elif num[i]<num[i-1]:\n",
    "            inc=True\n",
    "            \n",
    "        if not inc and not dec:\n",
    "            return False\n",
    "    return True"
   ]
  },
  {
   "cell_type": "raw",
   "id": "19ac7840",
   "metadata": {},
   "source": [
    "You are given an integer array nums and an integer k.\n",
    "In one operation, you can choose any index i where 0 <= i < nums.length and change nums[i]\n",
    "to nums[i] + x where x is an integer from the range [-k, k]. You can apply this operation at\n",
    "most once for each index i.\n",
    "The score of nums is the difference between the maximum and minimum elements in nums.\n",
    "Return the minimum score of nums after applying the mentioned operation at most once for\n",
    "each index in it.\n",
    "Example 1:\n",
    "Input: nums = [1], k = 0\n",
    "Output: 0\n",
    "Explanation: The score is max(nums) - min(nums) = 1 - 1 = 0."
   ]
  },
  {
   "cell_type": "code",
   "execution_count": 4,
   "id": "68c8e838",
   "metadata": {},
   "outputs": [],
   "source": [
    " def score(num,k):\n",
    "    min_val=min(num)\n",
    "    max_val=max(num)\n",
    "    \n",
    "    if max_val-min_val<=2*k:\n",
    "        return 0\n",
    "    else:\n",
    "        return max_val-min_val-2*k\n",
    "        "
   ]
  },
  {
   "cell_type": "code",
   "execution_count": null,
   "id": "dc63d537",
   "metadata": {},
   "outputs": [],
   "source": []
  }
 ],
 "metadata": {
  "kernelspec": {
   "display_name": "Python 3 (ipykernel)",
   "language": "python",
   "name": "python3"
  },
  "language_info": {
   "codemirror_mode": {
    "name": "ipython",
    "version": 3
   },
   "file_extension": ".py",
   "mimetype": "text/x-python",
   "name": "python",
   "nbconvert_exporter": "python",
   "pygments_lexer": "ipython3",
   "version": "3.11.2"
  }
 },
 "nbformat": 4,
 "nbformat_minor": 5
}
