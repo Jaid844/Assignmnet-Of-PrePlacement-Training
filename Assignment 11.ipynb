{
 "cells": [
  {
   "cell_type": "code",
   "execution_count": null,
   "id": "e4da69c6",
   "metadata": {},
   "outputs": [],
   "source": [
    "Given a non-negative integer `x`, return *the square root of* `x` *rounded down to the nearest integer*. The returned integer should be **non-negative** as well.\n",
    "\n",
    "You **must not use** any built-in exponent function or operator.\n",
    "\n",
    "- For example, do not use `pow(x, 0.5)` in c++ or `x ** 0.5` in python."
   ]
  },
  {
   "cell_type": "code",
   "execution_count": null,
   "id": "c637c354",
   "metadata": {},
   "outputs": [],
   "source": [
    "def mySqrt(x):\n",
    "    if x < 2:\n",
    "        return x\n",
    "\n",
    "    left, right = 1, x // 2\n",
    "\n",
    "    while left <= right:\n",
    "        mid = (left + right) // 2\n",
    "        square = mid * mid\n",
    "\n",
    "        if square == x:\n",
    "            return mid\n",
    "        elif square < x:\n",
    "            left = mid + 1\n",
    "        else:\n",
    "            right = mid - 1\n",
    "\n",
    "    return right\n"
   ]
  },
  {
   "cell_type": "code",
   "execution_count": null,
   "id": "c6808491",
   "metadata": {},
   "outputs": [],
   "source": [
    "<aside>\n",
    "💡 **Question 2**\n",
    "\n",
    "A peak element is an element that is strictly greater than its neighbors.\n",
    "\n",
    "Given a **0-indexed** integer array `nums`, find a peak element, and return its index. If the array contains multiple peaks, return the index to **any of the peaks**.\n",
    "\n",
    "You may imagine that `nums[-1] = nums[n] = -∞`. In other words, an element is always considered to be strictly greater than a neighbor that is outside the array.\n",
    "\n",
    "You must write an algorithm that runs in `O(log n)` time.\n",
    "\n",
    "</aside>"
   ]
  },
  {
   "cell_type": "code",
   "execution_count": null,
   "id": "c0d00f76",
   "metadata": {},
   "outputs": [],
   "source": [
    "def peak(n):\n",
    "    start=0\n",
    "    end=len(n)-1\n",
    "    while end >start:\n",
    "        mid=(start+end)//2\n",
    "        if n[mid]<n[mid+1]:\n",
    "            start=mid+1\n",
    "        else:\n",
    "            end=mid-1\n",
    "    return start\n",
    "            \n",
    "        "
   ]
  },
  {
   "cell_type": "code",
   "execution_count": null,
   "id": "48c4007b",
   "metadata": {},
   "outputs": [],
   "source": [
    "Given an array nums containing n distinct numbers in the range [0, n], return the only number in the range that is missing from the array."
   ]
  },
  {
   "cell_type": "code",
   "execution_count": 2,
   "id": "994f1ab4",
   "metadata": {},
   "outputs": [],
   "source": [
    "def no_1(n):\n",
    "    seen=set(n)\n",
    "    range_1=len(n)+1\n",
    "    for i in range(range_1):\n",
    "        if i not in seen:\n",
    "            return i\n"
   ]
  },
  {
   "cell_type": "code",
   "execution_count": null,
   "id": "81e3e769",
   "metadata": {},
   "outputs": [],
   "source": [
    "Given an array of integers `nums` containing `n + 1` integers where each integer is in the range `[1, n]` inclusive.\n",
    "\n",
    "There is only **one repeated number** in `nums`, return *this repeated number*.\n",
    "\n",
    "You must solve the problem **without** modifying the array `nums` and uses only constant extra space."
   ]
  },
  {
   "cell_type": "code",
   "execution_count": null,
   "id": "10ce87bb",
   "metadata": {},
   "outputs": [],
   "source": [
    "def findDuplicate(nums):\n",
    "    # Step 1: Find the intersection point of the two pointers\n",
    "    slow = nums[0]\n",
    "    fast = nums[0]\n",
    "\n",
    "    while True:\n",
    "        slow = nums[slow]  # Move one step\n",
    "        fast = nums[nums[fast]]  # Move two steps\n",
    "\n",
    "        if slow == fast:\n",
    "            break\n",
    "\n",
    "    # Step 2: Find the start of the cycle\n",
    "    pointer1 = nums[0]\n",
    "    pointer2 = slow\n",
    "\n",
    "    while pointer1 != pointer2:\n",
    "        pointer1 = nums[pointer1]\n",
    "        pointer2 = nums[pointer2]\n",
    "\n",
    "    return pointer1\n"
   ]
  },
  {
   "cell_type": "code",
   "execution_count": null,
   "id": "34c6e7df",
   "metadata": {},
   "outputs": [],
   "source": [
    "Given two integer arrays nums1 and nums2, return an array of their intersection. Each element in the result must be unique and you may return the result in any order."
   ]
  },
  {
   "cell_type": "code",
   "execution_count": null,
   "id": "27f2c217",
   "metadata": {},
   "outputs": [],
   "source": [
    "def intersection(nums1, nums2):\n",
    "    set1 = set(nums1)  \n",
    "    set2 = set(nums2)  \n",
    "    intersection_set = set1.intersection(set2)\n",
    "    intersection_list = list(intersection_set)\n",
    "    return intersection_list\n"
   ]
  },
  {
   "cell_type": "code",
   "execution_count": null,
   "id": "bb039ab3",
   "metadata": {},
   "outputs": [],
   "source": [
    "Suppose an array of length `n` sorted in ascending order is **rotated** between `1` and `n` times. For example, the array `nums = [0,1,2,4,5,6,7]` might become:\n",
    "\n",
    "- `[4,5,6,7,0,1,2]` if it was rotated `4` times.\n",
    "- `[0,1,2,4,5,6,7]` if it was rotated `7` times.\n",
    "\n",
    "Notice that **rotating** an array `[a[0], a[1], a[2], ..., a[n-1]]` 1 time results in the array `[a[n-1], a[0], a[1], a[2], ..., a[n-2]]`.\n",
    "\n",
    "Given the sorted rotated array `nums` of **unique** elements, return *the minimum element of this array*.\n",
    "\n",
    "You must write an algorithm that runs in `O(log n) time.`"
   ]
  },
  {
   "cell_type": "code",
   "execution_count": null,
   "id": "f368727f",
   "metadata": {},
   "outputs": [],
   "source": [
    "def findMin(nums):\n",
    "    left = 0\n",
    "    right = len(nums) - 1\n",
    "\n",
    "    while left < right:\n",
    "        mid = (left + right) // 2\n",
    "\n",
    "        if nums[mid] > nums[right]:\n",
    "            left = mid + 1\n",
    "        else:\n",
    "            right = mid\n",
    "\n",
    "    return nums[left]\n"
   ]
  },
  {
   "cell_type": "code",
   "execution_count": null,
   "id": "9b7eb124",
   "metadata": {},
   "outputs": [],
   "source": [
    "Given an array of integers `nums` sorted in non-decreasing order, find the starting and ending position of a given `target` value.\n",
    "\n",
    "If `target` is not found in the array, return `[-1, -1]`.\n",
    "\n",
    "You must write an algorithm with `O(log n)` runtime complexity."
   ]
  },
  {
   "cell_type": "code",
   "execution_count": null,
   "id": "38827157",
   "metadata": {},
   "outputs": [],
   "source": [
    "def searchRange(nums, target):\n",
    "    # Find the leftmost occurrence of the target\n",
    "    left = findLeftmost(nums, target)\n",
    "    if left == -1:\n",
    "        return [-1, -1]\n",
    "\n",
    "    # Find the rightmost occurrence of the target\n",
    "    right = findRightmost(nums, target)\n",
    "\n",
    "    return [left, right]\n",
    "\n",
    "\n",
    "def findLeftmost(nums, target):\n",
    "    left = 0\n",
    "    right = len(nums) - 1\n",
    "    leftmost = -1\n",
    "\n",
    "    while left <= right:\n",
    "        mid = (left + right) // 2\n",
    "\n",
    "        if nums[mid] >= target:\n",
    "            right = mid - 1\n",
    "            if nums[mid] == target:\n",
    "                leftmost = mid\n",
    "        else:\n",
    "            left = mid + 1\n",
    "\n",
    "    return leftmost\n",
    "\n",
    "\n",
    "def findRightmost(nums, target):\n",
    "    left = 0\n",
    "    right = len(nums) - 1\n",
    "    rightmost = -1\n",
    "\n",
    "    while left <= right:\n",
    "        mid = (left + right) // 2\n",
    "\n",
    "        if nums[mid] <= target:\n",
    "            left = mid + 1\n",
    "            if nums[mid] == target:\n",
    "                rightmost = mid\n",
    "        else:\n",
    "            right = mid - 1\n",
    "\n",
    "    return rightmost\n"
   ]
  },
  {
   "cell_type": "code",
   "execution_count": null,
   "id": "55e14ba0",
   "metadata": {},
   "outputs": [],
   "source": [
    "<aside>\n",
    "💡 **Question 8**\n",
    "\n",
    "Given two integer arrays `nums1` and `nums2`, return *an array of their intersection*. Each element in the result must appear as many times as it shows in both arrays and you may return the result in **any order**.\n",
    "\n",
    "</aside>"
   ]
  },
  {
   "cell_type": "code",
   "execution_count": null,
   "id": "2388f74c",
   "metadata": {},
   "outputs": [],
   "source": [
    "from collections import Counter\n",
    "def intersect(nums1, nums2):\n",
    "    counter1 = Counter(nums1)\n",
    "    counter2 = Counter(nums2)\n",
    "    intersection = []\n",
    "    for num in counter1:\n",
    "        if num in counter2:\n",
    "            intersection.extend([num] * min(counter1[num], counter2[num]))\n",
    "    return intersection\n"
   ]
  },
  {
   "cell_type": "code",
   "execution_count": null,
   "id": "7daf74ae",
   "metadata": {},
   "outputs": [],
   "source": []
  },
  {
   "cell_type": "code",
   "execution_count": null,
   "id": "a8ebde54",
   "metadata": {},
   "outputs": [],
   "source": []
  }
 ],
 "metadata": {
  "kernelspec": {
   "display_name": "Python 3 (ipykernel)",
   "language": "python",
   "name": "python3"
  },
  "language_info": {
   "codemirror_mode": {
    "name": "ipython",
    "version": 3
   },
   "file_extension": ".py",
   "mimetype": "text/x-python",
   "name": "python",
   "nbconvert_exporter": "python",
   "pygments_lexer": "ipython3",
   "version": "3.11.2"
  }
 },
 "nbformat": 4,
 "nbformat_minor": 5
}
