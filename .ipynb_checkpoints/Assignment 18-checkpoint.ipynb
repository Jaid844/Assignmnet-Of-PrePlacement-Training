{
 "cells": [
  {
   "cell_type": "code",
   "execution_count": null,
   "id": "a5f7c94e",
   "metadata": {},
   "outputs": [],
   "source": [
    "<aside>\n",
    "💡 1. **Merge Intervals**\n",
    "\n",
    "Given an array of `intervals` where `intervals[i] = [starti, endi]`, merge all overlapping intervals, and return *an array of the non-overlapping intervals that cover all the intervals in the input*.\n",
    "\n",
    "</aside>"
   ]
  },
  {
   "cell_type": "code",
   "execution_count": null,
   "id": "a85b4295",
   "metadata": {},
   "outputs": [],
   "source": [
    "def merge_intervals(intervals):\n",
    "    if not intervals:\n",
    "        return []\n",
    "\n",
    "    intervals.sort(key=lambda x: x[0])\n",
    "    merged = [intervals[0]]\n",
    "\n",
    "    for interval in intervals[1:]:\n",
    "        if interval[0] <= merged[-1][1]:\n",
    "            merged[-1][1] = max(merged[-1][1], interval[1])\n",
    "        else:\n",
    "            merged.append(interval)\n",
    "\n",
    "    return merged\n"
   ]
  },
  {
   "cell_type": "code",
   "execution_count": null,
   "id": "05b4997d",
   "metadata": {},
   "outputs": [],
   "source": [
    "Input: intervals = [[1,4],[4,5]]\n",
    "Output: [[1,5]]\n",
    "Explanation: Intervals [1,4] and [4,5] are considered overlapping.\n"
   ]
  },
  {
   "cell_type": "code",
   "execution_count": null,
   "id": "dda04a75",
   "metadata": {},
   "outputs": [],
   "source": [
    "def merge_intervals(intervals):\n",
    "    if not intervals:\n",
    "        return []\n",
    "\n",
    "    intervals.sort(key=lambda x: x[0])\n",
    "    merged = [intervals[0]]\n",
    "\n",
    "    for interval in intervals[1:]:\n",
    "        if interval[0] <= merged[-1][1]:\n",
    "            merged[-1][1] = max(merged[-1][1], interval[1])\n",
    "        else:\n",
    "            merged.append(interval)\n",
    "\n",
    "    return merged\n"
   ]
  },
  {
   "cell_type": "code",
   "execution_count": null,
   "id": "b2a9a6ad",
   "metadata": {},
   "outputs": [],
   "source": [
    "<aside>\n",
    "💡 2. **Sort Colors**\n",
    "\n",
    "Given an array `nums` with `n` objects colored red, white, or blue, sort them **[in-place](https://en.wikipedia.org/wiki/In-place_algorithm)** so that objects of the same color are adjacent, with the colors in the order red, white, and blue.\n",
    "\n",
    "We will use the integers `0`, `1`, and `2` to represent the color red, white, and blue, respectively.\n",
    "\n",
    "You must solve this problem without using the library's sort function.\n",
    "\n",
    "</aside>"
   ]
  },
  {
   "cell_type": "code",
   "execution_count": null,
   "id": "334cf238",
   "metadata": {},
   "outputs": [],
   "source": [
    "def sort_colors(nums):\n",
    "    left = 0  # pointer for the red section\n",
    "    right = len(nums) - 1  # pointer for the blue section\n",
    "    curr = 0  # current pointer\n",
    "\n",
    "    while curr <= right:\n",
    "        if nums[curr] == 0:  # red color\n",
    "            nums[curr], nums[left] = nums[left], nums[curr]\n",
    "            left += 1\n",
    "            curr += 1\n",
    "        elif nums[curr] == 2:  # blue color\n",
    "            nums[curr], nums[right] = nums[right], nums[curr]\n",
    "            right -= 1\n",
    "        else:  # white color\n",
    "            curr += 1\n"
   ]
  },
  {
   "cell_type": "code",
   "execution_count": null,
   "id": "93177d39",
   "metadata": {},
   "outputs": [],
   "source": [
    "<aside>\n",
    "💡 **First Bad Version Solution**\n",
    "\n",
    "You are a product manager and currently leading a team to develop a new product. Unfortunately, the latest version of your product fails the quality check. Since each version is developed based on the previous version, all the versions after a bad version are also bad.\n",
    "\n",
    "Suppose you have `n` versions `[1, 2, ..., n]` and you want to find out the first bad one, which causes all the following ones to be bad.\n",
    "\n",
    "You are given an API `bool isBadVersion(version)` which returns whether `version` is bad. Implement a function to find the first bad version. You should minimize the number of calls to the API.\n",
    "\n",
    "</aside>"
   ]
  },
  {
   "cell_type": "code",
   "execution_count": null,
   "id": "4ebfaa82",
   "metadata": {},
   "outputs": [],
   "source": [
    "def first_bad_version(n):\n",
    "    left = 1\n",
    "    right = n\n",
    "\n",
    "    while left < right:\n",
    "        mid = left + (right - left) // 2\n",
    "        if isBadVersion(mid):\n",
    "            right = mid\n",
    "        else:\n",
    "            left = mid + 1\n",
    "\n",
    "    return left\n"
   ]
  },
  {
   "cell_type": "code",
   "execution_count": null,
   "id": "7090d5c2",
   "metadata": {},
   "outputs": [],
   "source": [
    "Given an integer array `nums`, return *the maximum difference between two successive elements in its sorted form*. If the array contains less than two elements, return `0`.\n",
    "\n",
    "You must write an algorithm that runs in linear time and uses linear extra space.\n",
    "\n",
    "**Example 1:**"
   ]
  },
  {
   "cell_type": "code",
   "execution_count": null,
   "id": "3279e664",
   "metadata": {},
   "outputs": [],
   "source": [
    "def maximum_gap(nums):\n",
    "    if len(nums) < 2:\n",
    "        return 0\n",
    "\n",
    "    # Find the maximum element in the array\n",
    "    max_num = max(nums)\n",
    "\n",
    "    # Perform radix sort on the array\n",
    "    exp = 1\n",
    "    while max_num // exp > 0:\n",
    "        counting_sort(nums, exp)\n",
    "        exp *= 10\n",
    "\n",
    "    # Find the maximum difference between successive elements\n",
    "    max_gap = 0\n",
    "    for i in range(1, len(nums)):\n",
    "        max_gap = max(max_gap, nums[i] - nums[i-1])\n",
    "\n",
    "    return max_gap\n",
    "\n",
    "def counting_sort(nums, exp):\n",
    "    n = len(nums)\n",
    "    output = [0] * n\n",
    "    count = [0] * 10\n",
    "\n",
    "    for i in range(n):\n",
    "        index = nums[i] // exp\n",
    "        count[index % 10] += 1\n",
    "\n",
    "    for i in range(1, 10):\n",
    "        count[i] += count[i-1]\n",
    "\n",
    "    i = n - 1\n",
    "    while i >= 0:\n",
    "        index = nums[i] // exp\n",
    "        output[count[index % 10] - 1] = nums[i]\n",
    "        count[index % 10] -= 1\n",
    "        i -= 1\n",
    "\n",
    "    for i in range(n):\n",
    "        nums[i] = output[i]\n"
   ]
  },
  {
   "cell_type": "code",
   "execution_count": null,
   "id": "3ef77a3c",
   "metadata": {},
   "outputs": [],
   "source": [
    "<aside>\n",
    "💡 5. **Contains Duplicate**\n",
    "\n",
    "Given an integer array `nums`, return `true` if any value appears **at least twice** in the array, and return `false` if every element is distinct.\n",
    "\n",
    "</aside>"
   ]
  },
  {
   "cell_type": "code",
   "execution_count": null,
   "id": "a331d8de",
   "metadata": {},
   "outputs": [],
   "source": [
    "def contains_duplicate(nums):\n",
    "    num_set = set()\n",
    "\n",
    "    for num in nums:\n",
    "        if num in num_set:\n",
    "            return True\n",
    "        num_set.add(num)\n",
    "\n",
    "    return False\n"
   ]
  },
  {
   "cell_type": "code",
   "execution_count": null,
   "id": "50b35009",
   "metadata": {},
   "outputs": [],
   "source": [
    "<aside>\n",
    "💡 6. **Minimum Number of Arrows to Burst Balloons**\n",
    "\n",
    "There are some spherical balloons taped onto a flat wall that represents the XY-plane. The balloons are represented as a 2D integer array `points` where `points[i] = [xstart, xend]` denotes a balloon whose **horizontal diameter** stretches between `xstart` and `xend`. You do not know the exact y-coordinates of the balloons.\n",
    "\n",
    "Arrows can be shot up **directly vertically** (in the positive y-direction) from different points along the x-axis. A balloon with `xstart` and `xend` is **burst** by an arrow shot at `x` if `xstart <= x <= xend`. There is **no limit** to the number of arrows that can be shot. A shot arrow keeps traveling up infinitely, bursting any balloons in its path.\n",
    "\n",
    "Given the array `points`, return *the **minimum** number of arrows that must be shot to burst all balloons*.\n",
    "\n",
    "</aside>"
   ]
  },
  {
   "cell_type": "code",
   "execution_count": null,
   "id": "6a353726",
   "metadata": {},
   "outputs": [],
   "source": [
    "def find_min_arrows(points):\n",
    "    if not points:\n",
    "        return 0\n",
    "\n",
    "    # Sort balloons based on ending position\n",
    "    points.sort(key=lambda x: x[1])\n",
    "\n",
    "    arrows = 1\n",
    "    previous_end = points[0][1]\n",
    "\n",
    "    for i in range(1, len(points)):\n",
    "        if points[i][0] > previous_end:\n",
    "            # Current balloon does not overlap with the previous one\n",
    "            arrows += 1\n",
    "            previous_end = points[i][1]\n",
    "\n",
    "    return arrows\n"
   ]
  },
  {
   "cell_type": "code",
   "execution_count": null,
   "id": "a695c012",
   "metadata": {},
   "outputs": [],
   "source": [
    "<aside>\n",
    "💡 7. **Longest Increasing Subsequence**\n",
    "\n",
    "Given an integer array `nums`, return *the length of the longest **strictly increasing***\n",
    "\n",
    "</aside>"
   ]
  },
  {
   "cell_type": "code",
   "execution_count": null,
   "id": "5ef66a81",
   "metadata": {},
   "outputs": [],
   "source": [
    "def length_of_lis(nums):\n",
    "    if not nums:\n",
    "        return 0\n",
    "\n",
    "    n = len(nums)\n",
    "    dp = [1] * n\n",
    "\n",
    "    for i in range(1, n):\n",
    "        for j in range(i):\n",
    "            if nums[i] > nums[j]:\n",
    "                dp[i] = max(dp[i], dp[j] + 1)\n",
    "\n",
    "    return max(dp)\n"
   ]
  },
  {
   "cell_type": "code",
   "execution_count": null,
   "id": "532f2384",
   "metadata": {},
   "outputs": [],
   "source": []
  },
  {
   "cell_type": "code",
   "execution_count": null,
   "id": "a73d61a2",
   "metadata": {},
   "outputs": [],
   "source": []
  },
  {
   "cell_type": "code",
   "execution_count": null,
   "id": "0453909d",
   "metadata": {},
   "outputs": [],
   "source": []
  },
  {
   "cell_type": "code",
   "execution_count": null,
   "id": "11d51d0b",
   "metadata": {},
   "outputs": [],
   "source": []
  }
 ],
 "metadata": {
  "kernelspec": {
   "display_name": "Python 3 (ipykernel)",
   "language": "python",
   "name": "python3"
  },
  "language_info": {
   "codemirror_mode": {
    "name": "ipython",
    "version": 3
   },
   "file_extension": ".py",
   "mimetype": "text/x-python",
   "name": "python",
   "nbconvert_exporter": "python",
   "pygments_lexer": "ipython3",
   "version": "3.11.2"
  }
 },
 "nbformat": 4,
 "nbformat_minor": 5
}
