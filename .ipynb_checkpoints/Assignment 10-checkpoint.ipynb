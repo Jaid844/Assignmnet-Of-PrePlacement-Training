{
 "cells": [
  {
   "cell_type": "code",
   "execution_count": null,
   "id": "f54601c4",
   "metadata": {},
   "outputs": [],
   "source": [
    "Given an integer `n`, return *`true` if it is a power of three. Otherwise, return `false`*.\n",
    "\n",
    "An integer `n` is a power of three, if there exists an integer `x` such that `n == 3x`."
   ]
  },
  {
   "cell_type": "code",
   "execution_count": 2,
   "id": "d1352804",
   "metadata": {},
   "outputs": [],
   "source": [
    "import math\n",
    "def is_power_of_three(n):\n",
    "    if n <= 0:\n",
    "        return False\n",
    "    x = math.log10(n) / math.log10(3)\n",
    "    return math.isclose(x, round(x))\n",
    "\n"
   ]
  },
  {
   "cell_type": "code",
   "execution_count": null,
   "id": "8362306e",
   "metadata": {},
   "outputs": [],
   "source": [
    "<aside>\n",
    "💡 **Question 2**\n",
    "\n",
    "You have a list `arr` of all integers in the range `[1, n]` sorted in a strictly increasing order. Apply the following algorithm on `arr`:\n",
    "\n",
    "- Starting from left to right, remove the first number and every other number afterward until you reach the end of the list.\n",
    "- Repeat the previous step again, but this time from right to left, remove the rightmost number and every other number from the remaining numbers.\n",
    "- Keep repeating the steps again, alternating left to right and right to left, until a single number remains.\n",
    "\n",
    "Given the integer `n`, return *the last number that remains in* `arr`.\n",
    "\n",
    "</aside>"
   ]
  },
  {
   "cell_type": "code",
   "execution_count": 4,
   "id": "49dddcc4",
   "metadata": {},
   "outputs": [],
   "source": [
    "def last_remaining(n):\n",
    "    arr = list(range(1, n + 1))  \n",
    "    left_to_right = True \n",
    "    while len(arr) > 1:\n",
    "        if left_to_right:\n",
    "            arr = arr[1::2]\n",
    "        else:\n",
    "            \n",
    "            arr = arr[-2::-2][::-1]\n",
    "\n",
    "        left_to_right = not left_to_right\n",
    "    return arr[0]  \n",
    "\n"
   ]
  },
  {
   "cell_type": "code",
   "execution_count": null,
   "id": "e880339c",
   "metadata": {},
   "outputs": [],
   "source": [
    "Given a set represented as a string, write a recursive code to print all subsets of it. The subsets can be printed in any order.\n",
    "\n",
    "**Example 1:**\n",
    "\n",
    "Input :  set = “abc”\n",
    "\n",
    "Output : { “”, “a”, “b”, “c”, “ab”, “ac”, “bc”, “abc”}\n",
    "\n",
    "**Example 2:**\n",
    "\n",
    "Input : set = “abcd”\n",
    "\n",
    "Output : { “”, “a” ,”ab” ,”abc” ,”abcd”, “abd” ,”ac” ,”acd”, “ad” ,”b”, “bc” ,”bcd” ,”bd” ,”c” ,”cd” ,”d” }"
   ]
  },
  {
   "cell_type": "code",
   "execution_count": 5,
   "id": "f511f7f9",
   "metadata": {},
   "outputs": [],
   "source": [
    "def print_subsets(s):\n",
    "    subsets = []\n",
    "    generate_subsets(s, \"\", subsets)\n",
    "    print(subsets)\n",
    "def generate_subsets(s, current_subset, subsets):\n",
    "    if len(s) == 0:\n",
    "        subsets.append(current_subset)\n",
    "        return\n",
    "    generate_subsets(s[1:], current_subset + s[0], subsets)\n",
    "    generate_subsets(s[1:], current_subset, subsets)\n",
    "\n",
    "\n"
   ]
  },
  {
   "cell_type": "code",
   "execution_count": null,
   "id": "de94e0fb",
   "metadata": {},
   "outputs": [],
   "source": [
    "Given a string calculate length of the string using recursion."
   ]
  },
  {
   "cell_type": "code",
   "execution_count": 6,
   "id": "f9f424b2",
   "metadata": {},
   "outputs": [
    {
     "name": "stdout",
     "output_type": "stream",
     "text": [
      "5\n",
      "9\n"
     ]
    }
   ],
   "source": [
    "def calculate_length(s):\n",
    "    if s == \"\":\n",
    "        return 0\n",
    "    else:\n",
    "        return 1 + calculate_length(s[1:])"
   ]
  },
  {
   "cell_type": "code",
   "execution_count": null,
   "id": "9c8c5a03",
   "metadata": {},
   "outputs": [],
   "source": [
    "We are given a string S, we need to find count of all contiguous substrings starting and ending with same character."
   ]
  },
  {
   "cell_type": "code",
   "execution_count": 7,
   "id": "2dcf48c8",
   "metadata": {},
   "outputs": [
    {
     "name": "stdout",
     "output_type": "stream",
     "text": [
      "3\n",
      "8\n"
     ]
    }
   ],
   "source": [
    "def count_contiguous_substrings(S):\n",
    "    count = 0\n",
    "    n = len(S)\n",
    "    for i in range(n):\n",
    "        for j in range(i, n):\n",
    "            if S[i] == S[j]:\n",
    "                count += 1\n",
    "    return count\n"
   ]
  },
  {
   "cell_type": "code",
   "execution_count": null,
   "id": "720058bc",
   "metadata": {},
   "outputs": [],
   "source": [
    "The tower of Hanoi is a famous puzzle where we have three rods and N disks. The objective of the puzzle is to move the entire stack to another rod. You are given the number of discs N. Initially, these discs are in the rod 1. You need to print all the steps of discs movement so that all the discs reach the 3rd rod. Also, you need to find the total moves.Note: The discs are arranged such that the top disc is numbered 1 and the bottom-most disc is numbered N. Also, all the discs have different sizes and a bigger disc cannot be put on the top of a smaller disc. Refer the provided link to get a better clarity about the puzzle."
   ]
  },
  {
   "cell_type": "code",
   "execution_count": 8,
   "id": "6bf1cec3",
   "metadata": {},
   "outputs": [],
   "source": [
    "def tower_of_hanoi(n, source, destination, auxiliary):\n",
    "    if n == 1:\n",
    "        print(f\"Move disk 1 from {source} to {destination}\")\n",
    "        return 1\n",
    "    else:\n",
    "        moves = 0\n",
    "        moves += tower_of_hanoi(n - 1, source, auxiliary, destination)\n",
    "        print(f\"Move disk {n} from {source} to {destination}\")\n",
    "        moves += 1\n",
    "        moves += tower_of_hanoi(n - 1, auxiliary, destination, source)\n",
    "        return moves"
   ]
  },
  {
   "cell_type": "code",
   "execution_count": null,
   "id": "eb91fe7f",
   "metadata": {},
   "outputs": [],
   "source": [
    "<aside>\n",
    "💡 **Question 7**\n",
    "\n",
    "Given a string **str**, the task is to print all the permutations of **str**. A **permutation** is an arrangement of all or part of a set of objects, with regard to the order of the arrangement. For instance, the words ‘bat’ and ‘tab’ represents two distinct permutation (or arrangements) of a similar three letter word.\n",
    "\n",
    "**Examples:**\n",
    "\n",
    "</aside>"
   ]
  },
  {
   "cell_type": "code",
   "execution_count": 9,
   "id": "5f9095d4",
   "metadata": {},
   "outputs": [],
   "source": [
    "def print_permutations(s):\n",
    "    permutations = []\n",
    "    generate_permutations(list(s), 0, len(s) - 1, permutations)\n",
    "    print(permutations)\n",
    "def generate_permutations(characters, left, right, permutations):\n",
    "    if left == right:\n",
    "        permutations.append(\"\".join(characters))\n",
    "    else:\n",
    "        for i in range(left, right + 1):\n",
    "            characters[left], characters[i] = characters[i], characters[left]  # Swap characters\n",
    "            generate_permutations(characters, left + 1, right, permutations)  # Recurse on the remaining characters\n",
    "            characters[left], characters[i] = characters[i], characters[left]  # Revert the swap\n"
   ]
  },
  {
   "cell_type": "code",
   "execution_count": null,
   "id": "f5e94a2d",
   "metadata": {},
   "outputs": [],
   "source": [
    "Given a string, count total number of consonants in it. A consonant is an English alphabet character that is not vowel (a, e, i, o and u). Examples of constants are b, c, d, f, and g."
   ]
  },
  {
   "cell_type": "code",
   "execution_count": 10,
   "id": "9e146263",
   "metadata": {},
   "outputs": [
    {
     "name": "stdout",
     "output_type": "stream",
     "text": [
      "7\n",
      "5\n"
     ]
    }
   ],
   "source": [
    "def count_consonants(s):\n",
    "    consonants = \"bcdfghjklmnpqrstvwxyz\"  # All consonant characters\n",
    "    count = 0\n",
    "    for char in s.lower():  # Convert to lowercase for case-insensitive comparison\n",
    "        if char in consonants:\n",
    "            count += 1\n",
    "    return count\n"
   ]
  },
  {
   "cell_type": "code",
   "execution_count": null,
   "id": "41e26ac0",
   "metadata": {},
   "outputs": [],
   "source": []
  }
 ],
 "metadata": {
  "kernelspec": {
   "display_name": "Python 3 (ipykernel)",
   "language": "python",
   "name": "python3"
  },
  "language_info": {
   "codemirror_mode": {
    "name": "ipython",
    "version": 3
   },
   "file_extension": ".py",
   "mimetype": "text/x-python",
   "name": "python",
   "nbconvert_exporter": "python",
   "pygments_lexer": "ipython3",
   "version": "3.11.2"
  }
 },
 "nbformat": 4,
 "nbformat_minor": 5
}
